{
  "cells": [
    {
      "cell_type": "code",
      "execution_count": 1,
      "id": "567a9a64",
      "metadata": {
        "id": "567a9a64",
        "outputId": "c3de8e35-7e4b-43c0-be31-49c05a7f9da2"
      },
      "outputs": [
        {
          "name": "stderr",
          "output_type": "stream",
          "text": [
            "[nltk_data] Error loading vader_lexicon: <urlopen error [SSL:\n",
            "[nltk_data]     CERTIFICATE_VERIFY_FAILED] certificate verify failed:\n",
            "[nltk_data]     unable to get local issuer certificate (_ssl.c:1129)>\n"
          ]
        }
      ],
      "source": [
        "import pandas as pd\n",
        "import requests\n",
        "import urllib\n",
        "import time\n",
        "import json\n",
        "import nltk\n",
        "nltk.download('vader_lexicon')\n",
        "from nltk.sentiment.vader import SentimentIntensityAnalyzer\n",
        "\n",
        "import imdb\n",
        "\n",
        "def get_data(object_type, username='', subreddit='', search_query='', max_time=None, min_time=1605849200):\n",
        "    # start from current time if not specified\n",
        "    if max_time is None:\n",
        "        max_time = int(time.time())\n",
        "\n",
        "    # generate filter string\n",
        "    filter_string = urllib.parse.urlencode(\n",
        "        {k: v for k, v in zip(\n",
        "            ['author', 'subreddit', 'q'],\n",
        "            [username, subreddit, search_query]) if v != \"\"})\n",
        "\n",
        "    url_format = \"https://api.pushshift.io/reddit/search/{}/?size=500&sort=desc&{}&before={}\"\n",
        "\n",
        "    before = max_time\n",
        "    df = pd.DataFrame()\n",
        "    \n",
        "    while before > min_time :\n",
        "        url = url_format.format(object_type, filter_string, before)\n",
        "        resp = requests.get(url)\n",
        "\n",
        "        # convert records to dataframe\n",
        "        dfi = pd.json_normalize(json.loads(resp.text)['data'])\n",
        "        \n",
        "        if object_type == 'comment':\n",
        "            dfi = dfi.rename(columns={'created_utc': 'date', 'body': 'comment'})\n",
        "            df = pd.concat([df, dfi[['id', 'date', 'comment', 'score']]])\n",
        "        elif object_type == 'submission':\n",
        "            dfi = dfi.rename(columns={'created_utc': 'date', 'selftext': 'post'})\n",
        "            dfi = dfi[dfi['post'].ne('')]\n",
        "            df = pd.concat([df, dfi[['id', 'date', 'post', 'score']]])\n",
        "\n",
        "        # set `before` to the earliest comment/post in the results\n",
        "        # next time we call requests.get(...) we will only get comments/posts before\n",
        "        # the earliest that we already have, thus not fetching any duplicates\n",
        "        before = dfi['date'].min()\n",
        "\n",
        "        # if needed\n",
        "        time.sleep(1)\n",
        "        \n",
        "    return df\n",
        "\n",
        "sent = SentimentIntensityAnalyzer()"
      ]
    },
    {
      "cell_type": "code",
      "execution_count": 2,
      "id": "d3d750db",
      "metadata": {
        "id": "d3d750db",
        "outputId": "e9e29177-b4e1-46e0-b4b5-93098c030993"
      },
      "outputs": [
        {
          "data": {
            "text/plain": [
              "4292"
            ]
          },
          "execution_count": 2,
          "metadata": {},
          "output_type": "execute_result"
        }
      ],
      "source": [
        "username = \"\"\n",
        "subreddit = \"movies\"\n",
        "sq1 = \"Fantastic Beasts: The Secrets of Dumbledore\"           # Bad Movie\n",
        "sq2 = \"Father Stu\"                          # Bad Movie\n",
        "sq3 = \"The Cellar\"                          # Bad Movie\n",
        "sq4 = \"Uncharted\"                           # Bad Movie\n",
        "sq5 = \"Morbius\"                             # Bad Movie\n",
        "sq6 = \"Spider-Man: No Way Home\"             # Good movie\n",
        "sq7 = \"Sonic the Hedgehog 2\"                # Good movie\n",
        "sq8 = \"Black Widow\"                         # Good movie\n",
        "sq9 = \"CODA\"                                # Good movie\n",
        "sq10 = \"The Lost City\"                      # Good movie\n",
        "\n",
        "\n",
        "df1 = get_data(\n",
        "    object_type='comment',\n",
        "    username=username,\n",
        "    subreddit=subreddit,\n",
        "    search_query=sq1)\n",
        "df1['Movie'] = sq1\n",
        "df1['id'].duplicated().any()    # False\n",
        "df1['id'].nunique()             # 2200\n",
        "\n",
        "\n",
        "df2 = get_data(\n",
        "    object_type='comment',\n",
        "    username=username,\n",
        "    subreddit=subreddit,\n",
        "    search_query=sq2)\n",
        "df2['Movie'] = sq2\n",
        "df2['id'].duplicated().any()    # False\n",
        "df2['id'].nunique()  \n",
        "\n",
        "\n",
        "df3 = get_data(\n",
        "    object_type='comment',\n",
        "    username=username,\n",
        "    subreddit=subreddit,\n",
        "    search_query=sq3)\n",
        "df3['Movie'] = sq3\n",
        "df3['id'].duplicated().any()    # False\n",
        "df3['id'].nunique() \n",
        "\n",
        "\n",
        "df4 = get_data(\n",
        "    object_type='comment',\n",
        "    username=username,\n",
        "    subreddit=subreddit,\n",
        "    search_query=sq4)\n",
        "df4['Movie'] = sq4\n",
        "df4['id'].duplicated().any()    # False\n",
        "df4['id'].nunique() "
      ]
    },
    {
      "cell_type": "code",
      "execution_count": 3,
      "id": "d19ec013",
      "metadata": {
        "id": "d19ec013",
        "outputId": "7a28dbfd-19ca-45f2-fb31-0d4db8b96167"
      },
      "outputs": [
        {
          "data": {
            "text/plain": [
              "300"
            ]
          },
          "execution_count": 3,
          "metadata": {},
          "output_type": "execute_result"
        }
      ],
      "source": [
        "\n",
        "df5 = get_data(\n",
        "    object_type='comment',\n",
        "    username=username,\n",
        "    subreddit=subreddit,\n",
        "    search_query=sq5)\n",
        "df5['Movie'] = sq5\n",
        "df5['id'].duplicated().any()    # False\n",
        "df5['id'].nunique() \n",
        "\n",
        "\n",
        "df6 = get_data(\n",
        "    object_type='comment',\n",
        "    username=username,\n",
        "    subreddit=subreddit,\n",
        "    search_query=sq6)\n",
        "df6['Movie'] = sq6\n",
        "df6['id'].duplicated().any()    # False\n",
        "df6['id'].nunique() \n",
        "\n",
        "\n",
        "df7 = get_data(\n",
        "    object_type='comment',\n",
        "    username=username,\n",
        "    subreddit=subreddit,\n",
        "    search_query=sq7)\n",
        "df7['Movie'] = sq7\n",
        "df7['id'].duplicated().any()    # False\n",
        "df7['id'].nunique() \n"
      ]
    },
    {
      "cell_type": "code",
      "execution_count": 4,
      "id": "950e19e8",
      "metadata": {
        "id": "950e19e8",
        "outputId": "00bb340c-af1d-4a84-d299-c0ac6f7b7626"
      },
      "outputs": [
        {
          "data": {
            "text/plain": [
              "1200"
            ]
          },
          "execution_count": 4,
          "metadata": {},
          "output_type": "execute_result"
        }
      ],
      "source": [
        "df8 = get_data(\n",
        "    object_type='comment',\n",
        "    username=username,\n",
        "    subreddit=subreddit,\n",
        "    search_query=sq8)\n",
        "df8['id'].duplicated().any()    # False\n",
        "df8['id'].nunique() \n",
        "df8['Movie'] = sq8\n",
        "\n",
        "\n",
        "\n",
        "df9 = get_data(\n",
        "    object_type='comment',\n",
        "    username=username,\n",
        "    subreddit=subreddit,\n",
        "    search_query=sq9)\n",
        "df9['Movie'] = sq9\n",
        "df9['id'].duplicated().any()    # False\n",
        "df9['id'].nunique() \n",
        "\n",
        "\n",
        "df10 = get_data(\n",
        "    object_type='comment',\n",
        "    username=username,\n",
        "    subreddit=subreddit,\n",
        "    search_query=sq10)\n",
        "df10['Movie'] = sq10\n",
        "df10['id'].duplicated().any()    # False\n",
        "df10['id'].nunique() "
      ]
    },
    {
      "cell_type": "code",
      "execution_count": 12,
      "id": "7128e4cd",
      "metadata": {
        "id": "7128e4cd"
      },
      "outputs": [],
      "source": [
        "combined = pd.concat( [df1, df2,df3, df4,df5,df6,df7,df8,df9,df10] ,ignore_index=True)\n",
        "\n",
        "polarity = [round(sent.polarity_scores(i)['compound'], 2) for i in combined['comment']]\n",
        "\n",
        "combined['sentiment_score'] = polarity\n",
        "\n",
        "final = combined.groupby('Movie')[['sentiment_score']].mean()\n",
        "\n",
        "final[\"Total Reviews\"] = combined.groupby('Movie')[['comment']].count()"
      ]
    },
    {
      "cell_type": "code",
      "execution_count": 13,
      "id": "0f803a7e",
      "metadata": {
        "id": "0f803a7e",
        "outputId": "a412fdd5-16a8-4bc3-f97d-a92f917d5f67"
      },
      "outputs": [
        {
          "data": {
            "text/html": [
              "<div>\n",
              "<style scoped>\n",
              "    .dataframe tbody tr th:only-of-type {\n",
              "        vertical-align: middle;\n",
              "    }\n",
              "\n",
              "    .dataframe tbody tr th {\n",
              "        vertical-align: top;\n",
              "    }\n",
              "\n",
              "    .dataframe thead th {\n",
              "        text-align: right;\n",
              "    }\n",
              "</style>\n",
              "<table border=\"1\" class=\"dataframe\">\n",
              "  <thead>\n",
              "    <tr style=\"text-align: right;\">\n",
              "      <th></th>\n",
              "      <th>sentiment_score</th>\n",
              "      <th>Total Reviews</th>\n",
              "    </tr>\n",
              "    <tr>\n",
              "      <th>Movie</th>\n",
              "      <th></th>\n",
              "      <th></th>\n",
              "    </tr>\n",
              "  </thead>\n",
              "  <tbody>\n",
              "    <tr>\n",
              "      <th>Black Widow</th>\n",
              "      <td>0.155240</td>\n",
              "      <td>6989</td>\n",
              "    </tr>\n",
              "    <tr>\n",
              "      <th>CODA</th>\n",
              "      <td>0.414281</td>\n",
              "      <td>2100</td>\n",
              "    </tr>\n",
              "    <tr>\n",
              "      <th>Fantastic Beasts: The Secrets of Dumbledore</th>\n",
              "      <td>0.459588</td>\n",
              "      <td>243</td>\n",
              "    </tr>\n",
              "    <tr>\n",
              "      <th>Father Stu</th>\n",
              "      <td>0.045082</td>\n",
              "      <td>61</td>\n",
              "    </tr>\n",
              "    <tr>\n",
              "      <th>Morbius</th>\n",
              "      <td>0.067998</td>\n",
              "      <td>2897</td>\n",
              "    </tr>\n",
              "    <tr>\n",
              "      <th>Sonic the Hedgehog 2</th>\n",
              "      <td>0.126900</td>\n",
              "      <td>300</td>\n",
              "    </tr>\n",
              "    <tr>\n",
              "      <th>Spider-Man: No Way Home</th>\n",
              "      <td>0.015333</td>\n",
              "      <td>1500</td>\n",
              "    </tr>\n",
              "    <tr>\n",
              "      <th>The Cellar</th>\n",
              "      <td>-0.085700</td>\n",
              "      <td>200</td>\n",
              "    </tr>\n",
              "    <tr>\n",
              "      <th>The Lost City</th>\n",
              "      <td>0.010692</td>\n",
              "      <td>1200</td>\n",
              "    </tr>\n",
              "    <tr>\n",
              "      <th>Uncharted</th>\n",
              "      <td>0.229397</td>\n",
              "      <td>4292</td>\n",
              "    </tr>\n",
              "  </tbody>\n",
              "</table>\n",
              "</div>"
            ],
            "text/plain": [
              "                                             sentiment_score  Total Reviews\n",
              "Movie                                                                      \n",
              "Black Widow                                         0.155240           6989\n",
              "CODA                                                0.414281           2100\n",
              "Fantastic Beasts: The Secrets of Dumbledore         0.459588            243\n",
              "Father Stu                                          0.045082             61\n",
              "Morbius                                             0.067998           2897\n",
              "Sonic the Hedgehog 2                                0.126900            300\n",
              "Spider-Man: No Way Home                             0.015333           1500\n",
              "The Cellar                                         -0.085700            200\n",
              "The Lost City                                       0.010692           1200\n",
              "Uncharted                                           0.229397           4292"
            ]
          },
          "execution_count": 13,
          "metadata": {},
          "output_type": "execute_result"
        }
      ],
      "source": [
        "final"
      ]
    },
    {
      "cell_type": "code",
      "execution_count": 14,
      "id": "b659bf0a",
      "metadata": {
        "colab": {
          "base_uri": "https://localhost:8080/",
          "height": 240
        },
        "id": "b659bf0a",
        "outputId": "8fafc5d5-ded7-49f9-8241-8d0c970e8811"
      },
      "outputs": [
        {
          "data": {
            "text/html": [
              "<div>\n",
              "<style scoped>\n",
              "    .dataframe tbody tr th:only-of-type {\n",
              "        vertical-align: middle;\n",
              "    }\n",
              "\n",
              "    .dataframe tbody tr th {\n",
              "        vertical-align: top;\n",
              "    }\n",
              "\n",
              "    .dataframe thead th {\n",
              "        text-align: right;\n",
              "    }\n",
              "</style>\n",
              "<table border=\"1\" class=\"dataframe\">\n",
              "  <thead>\n",
              "    <tr style=\"text-align: right;\">\n",
              "      <th></th>\n",
              "      <th>Title</th>\n",
              "      <th>Movie_ID</th>\n",
              "      <th>Rating</th>\n",
              "    </tr>\n",
              "  </thead>\n",
              "  <tbody>\n",
              "    <tr>\n",
              "      <th>0</th>\n",
              "      <td>Fantastic Beasts: The Secrets of Dumbledore</td>\n",
              "      <td>4123432</td>\n",
              "      <td>47</td>\n",
              "    </tr>\n",
              "    <tr>\n",
              "      <th>1</th>\n",
              "      <td>Father Stu</td>\n",
              "      <td>14439896</td>\n",
              "      <td>42</td>\n",
              "    </tr>\n",
              "    <tr>\n",
              "      <th>2</th>\n",
              "      <td>The Cellar</td>\n",
              "      <td>14550642</td>\n",
              "      <td>49</td>\n",
              "    </tr>\n",
              "    <tr>\n",
              "      <th>3</th>\n",
              "      <td>Uncharted</td>\n",
              "      <td>1464335</td>\n",
              "      <td>45</td>\n",
              "    </tr>\n",
              "    <tr>\n",
              "      <th>4</th>\n",
              "      <td>Morbius</td>\n",
              "      <td>5108870</td>\n",
              "      <td>35</td>\n",
              "    </tr>\n",
              "    <tr>\n",
              "      <th>5</th>\n",
              "      <td>Spider-Man: No Way Home</td>\n",
              "      <td>10872600</td>\n",
              "      <td>71</td>\n",
              "    </tr>\n",
              "    <tr>\n",
              "      <th>6</th>\n",
              "      <td>Sonic the Hedgehog 2</td>\n",
              "      <td>12412888</td>\n",
              "      <td>47</td>\n",
              "    </tr>\n",
              "    <tr>\n",
              "      <th>7</th>\n",
              "      <td>Black Widow</td>\n",
              "      <td>3480822</td>\n",
              "      <td>67</td>\n",
              "    </tr>\n",
              "    <tr>\n",
              "      <th>8</th>\n",
              "      <td>CODA</td>\n",
              "      <td>10366460</td>\n",
              "      <td>74</td>\n",
              "    </tr>\n",
              "    <tr>\n",
              "      <th>9</th>\n",
              "      <td>The Lost City</td>\n",
              "      <td>13320622</td>\n",
              "      <td>60</td>\n",
              "    </tr>\n",
              "  </tbody>\n",
              "</table>\n",
              "</div>"
            ],
            "text/plain": [
              "                                         Title  Movie_ID  Rating\n",
              "0  Fantastic Beasts: The Secrets of Dumbledore   4123432      47\n",
              "1                                   Father Stu  14439896      42\n",
              "2                                   The Cellar  14550642      49\n",
              "3                                    Uncharted   1464335      45\n",
              "4                                      Morbius   5108870      35\n",
              "5                      Spider-Man: No Way Home  10872600      71\n",
              "6                         Sonic the Hedgehog 2  12412888      47\n",
              "7                                  Black Widow   3480822      67\n",
              "8                                         CODA  10366460      74\n",
              "9                                The Lost City  13320622      60"
            ]
          },
          "execution_count": 14,
          "metadata": {},
          "output_type": "execute_result"
        }
      ],
      "source": [
        "# create an instance of the IMDb class\n",
        "ia = imdb.IMDb()\n",
        "\n",
        "movieids = [4123432, 14439896, 14550642, 1464335, 5108870, 10872600, 12412888, 3480822, 10366460, 13320622]\n",
        "title = []\n",
        "rating = []\n",
        "\n",
        "for i in movieids:\n",
        "    title.append(str(ia.get_movie(i)))\n",
        "    review = []\n",
        "    review = str(ia.get_movie_critic_reviews(i))\n",
        "    rating.append(review[24:26])\n",
        "\n",
        "IMDbDF = pd.DataFrame({\n",
        "    'Title': title,\n",
        "    'Movie_ID': [4123432, 14439896, 14550642, 1464335, 5108870, 10872600, 12412888, 3480822, 10366460, 13320622],\n",
        "    'Rating': rating\n",
        "    })\n",
        "IMDbDF = IMDbDF.astype({'Rating':'int'})\n",
        "\n",
        "IMDbDF"
      ]
    },
    {
      "cell_type": "code",
      "execution_count": 15,
      "id": "025cf798",
      "metadata": {
        "id": "025cf798",
        "outputId": "b0d39f53-8e8e-4161-eb51-327314256cf6"
      },
      "outputs": [
        {
          "data": {
            "text/html": [
              "<div>\n",
              "<style scoped>\n",
              "    .dataframe tbody tr th:only-of-type {\n",
              "        vertical-align: middle;\n",
              "    }\n",
              "\n",
              "    .dataframe tbody tr th {\n",
              "        vertical-align: top;\n",
              "    }\n",
              "\n",
              "    .dataframe thead th {\n",
              "        text-align: right;\n",
              "    }\n",
              "</style>\n",
              "<table border=\"1\" class=\"dataframe\">\n",
              "  <thead>\n",
              "    <tr style=\"text-align: right;\">\n",
              "      <th></th>\n",
              "      <th>sentiment_score</th>\n",
              "      <th>Total Reviews</th>\n",
              "      <th>Title</th>\n",
              "      <th>Rating</th>\n",
              "    </tr>\n",
              "    <tr>\n",
              "      <th>Movie_ID</th>\n",
              "      <th></th>\n",
              "      <th></th>\n",
              "      <th></th>\n",
              "      <th></th>\n",
              "    </tr>\n",
              "  </thead>\n",
              "  <tbody>\n",
              "    <tr>\n",
              "      <th>3480822</th>\n",
              "      <td>0.155240</td>\n",
              "      <td>6989</td>\n",
              "      <td>Black Widow</td>\n",
              "      <td>67</td>\n",
              "    </tr>\n",
              "    <tr>\n",
              "      <th>10366460</th>\n",
              "      <td>0.414281</td>\n",
              "      <td>2100</td>\n",
              "      <td>CODA</td>\n",
              "      <td>74</td>\n",
              "    </tr>\n",
              "    <tr>\n",
              "      <th>4123432</th>\n",
              "      <td>0.459588</td>\n",
              "      <td>243</td>\n",
              "      <td>Fantastic Beasts: The Secrets of Dumbledore</td>\n",
              "      <td>47</td>\n",
              "    </tr>\n",
              "    <tr>\n",
              "      <th>14439896</th>\n",
              "      <td>0.045082</td>\n",
              "      <td>61</td>\n",
              "      <td>Father Stu</td>\n",
              "      <td>42</td>\n",
              "    </tr>\n",
              "    <tr>\n",
              "      <th>5108870</th>\n",
              "      <td>0.067998</td>\n",
              "      <td>2897</td>\n",
              "      <td>Morbius</td>\n",
              "      <td>35</td>\n",
              "    </tr>\n",
              "    <tr>\n",
              "      <th>12412888</th>\n",
              "      <td>0.126900</td>\n",
              "      <td>300</td>\n",
              "      <td>Sonic the Hedgehog 2</td>\n",
              "      <td>47</td>\n",
              "    </tr>\n",
              "    <tr>\n",
              "      <th>10872600</th>\n",
              "      <td>0.015333</td>\n",
              "      <td>1500</td>\n",
              "      <td>Spider-Man: No Way Home</td>\n",
              "      <td>71</td>\n",
              "    </tr>\n",
              "    <tr>\n",
              "      <th>14550642</th>\n",
              "      <td>-0.085700</td>\n",
              "      <td>200</td>\n",
              "      <td>The Cellar</td>\n",
              "      <td>49</td>\n",
              "    </tr>\n",
              "    <tr>\n",
              "      <th>13320622</th>\n",
              "      <td>0.010692</td>\n",
              "      <td>1200</td>\n",
              "      <td>The Lost City</td>\n",
              "      <td>60</td>\n",
              "    </tr>\n",
              "    <tr>\n",
              "      <th>1464335</th>\n",
              "      <td>0.229397</td>\n",
              "      <td>4292</td>\n",
              "      <td>Uncharted</td>\n",
              "      <td>45</td>\n",
              "    </tr>\n",
              "  </tbody>\n",
              "</table>\n",
              "</div>"
            ],
            "text/plain": [
              "          sentiment_score  Total Reviews  \\\n",
              "Movie_ID                                   \n",
              "3480822          0.155240           6989   \n",
              "10366460         0.414281           2100   \n",
              "4123432          0.459588            243   \n",
              "14439896         0.045082             61   \n",
              "5108870          0.067998           2897   \n",
              "12412888         0.126900            300   \n",
              "10872600         0.015333           1500   \n",
              "14550642        -0.085700            200   \n",
              "13320622         0.010692           1200   \n",
              "1464335          0.229397           4292   \n",
              "\n",
              "                                                Title  Rating  \n",
              "Movie_ID                                                       \n",
              "3480822                                   Black Widow      67  \n",
              "10366460                                         CODA      74  \n",
              "4123432   Fantastic Beasts: The Secrets of Dumbledore      47  \n",
              "14439896                                   Father Stu      42  \n",
              "5108870                                       Morbius      35  \n",
              "12412888                         Sonic the Hedgehog 2      47  \n",
              "10872600                      Spider-Man: No Way Home      71  \n",
              "14550642                                   The Cellar      49  \n",
              "13320622                                The Lost City      60  \n",
              "1464335                                     Uncharted      45  "
            ]
          },
          "execution_count": 15,
          "metadata": {},
          "output_type": "execute_result"
        }
      ],
      "source": [
        "data_analysis = pd.merge(final, IMDbDF, left_on = 'Movie', right_on ='Title')\n",
        "data_analysis = data_analysis.set_index('Movie_ID')\n",
        "data_analysis"
      ]
    },
    {
      "cell_type": "code",
      "execution_count": 16,
      "id": "f22d2b3a",
      "metadata": {
        "id": "f22d2b3a"
      },
      "outputs": [],
      "source": [
        "# for data visualizations\n",
        "\n",
        "import matplotlib\n",
        "import matplotlib.pyplot as plt\n",
        "import seaborn as sns"
      ]
    },
    {
      "cell_type": "code",
      "execution_count": 17,
      "id": "e015082b",
      "metadata": {
        "id": "e015082b",
        "outputId": "53eed2cf-bc7d-4a60-8591-f87cb214753f"
      },
      "outputs": [
        {
          "data": {
            "text/plain": [
              "[Text(0, 0, 'Black Widow'),\n",
              " Text(1, 0, 'CODA'),\n",
              " Text(2, 0, 'Fantastic Beasts: The Secrets of Dumbledore'),\n",
              " Text(3, 0, 'Father Stu'),\n",
              " Text(4, 0, 'Morbius'),\n",
              " Text(5, 0, 'Sonic the Hedgehog 2'),\n",
              " Text(6, 0, 'Spider-Man: No Way Home'),\n",
              " Text(7, 0, 'The Cellar'),\n",
              " Text(8, 0, 'The Lost City'),\n",
              " Text(9, 0, 'Uncharted')]"
            ]
          },
          "execution_count": 17,
          "metadata": {},
          "output_type": "execute_result"
        },
        {
          "data": {
            "image/png": "[encoded data removed]",
            "text/plain": [
              "<Figure size 432x288 with 1 Axes>"
            ]
          },
          "metadata": {
            "needs_background": "light"
          },
          "output_type": "display_data"
        }
      ],
      "source": [
        "bar = sns.barplot(x='Title', y='Total Reviews', data=data_analysis)\n",
        "bar.set(xlabel = \"Movie\", ylabel = \"Number of Reddit Posts\")\n",
        "bar.set_xticklabels(bar.get_xticklabels(),rotation = 90)"
      ]
    },
    {
      "cell_type": "code",
      "execution_count": 18,
      "id": "8bab9106",
      "metadata": {
        "id": "8bab9106",
        "outputId": "edf38a44-c59d-47e9-f586-4089ceac9372"
      },
      "outputs": [
        {
          "data": {
            "image/png": "[encoded data removed]",
            "text/plain": [
              "<Figure size 432x288 with 1 Axes>"
            ]
          },
          "metadata": {
            "needs_background": "light"
          },
          "output_type": "display_data"
        }
      ],
      "source": [
        "fig = plt.figure()\n",
        "ax = fig.add_subplot(1, 1, 1)\n",
        "ax.scatter(x='sentiment_score', y='Rating', data=data_analysis)\n",
        "ax.set(xlabel = \"Reddit Sentiment Score\", ylabel = \"IMDb Rating\")\n",
        "\n",
        "for idx, row in data_analysis.iterrows():\n",
        "   ax.annotate(row['Title'], (row['sentiment_score'], row['Rating']) )\n",
        "plt.show()"
      ]
    },
    {
      "cell_type": "code",
      "execution_count": 19,
      "id": "0c3ec555",
      "metadata": {
        "id": "0c3ec555",
        "outputId": "6c8b696d-6581-45cd-b3f3-71ec8a0b495a"
      },
      "outputs": [
        {
          "data": {
            "text/plain": [
              "{'whiskers': [<matplotlib.lines.Line2D at 0x7f82c8c4e940>,\n",
              "  <matplotlib.lines.Line2D at 0x7f82c8c4ec10>],\n",
              " 'caps': [<matplotlib.lines.Line2D at 0x7f82c8c4efa0>,\n",
              "  <matplotlib.lines.Line2D at 0x7f82c8c36370>],\n",
              " 'boxes': [<matplotlib.lines.Line2D at 0x7f82c8c4e4f0>],\n",
              " 'medians': [<matplotlib.lines.Line2D at 0x7f82c8c36700>],\n",
              " 'fliers': [<matplotlib.lines.Line2D at 0x7f82c8c36a90>],\n",
              " 'means': []}"
            ]
          },
          "execution_count": 19,
          "metadata": {},
          "output_type": "execute_result"
        },
        {
          "data": {
            "image/png": "[encoded data removed]",
            "text/plain": [
              "<Figure size 432x288 with 1 Axes>"
            ]
          },
          "metadata": {
            "needs_background": "light"
          },
          "output_type": "display_data"
        }
      ],
      "source": [
        "fig1, ax1 = plt.subplots()\n",
        "ax1.set_title('Sentiment Scores')\n",
        "ax1.boxplot(data_analysis['sentiment_score'])"
      ]
    }
  ],
  "metadata": {
    "colab": {
      "name": "DC&M Project.ipynb",
      "provenance": []
    },
    "kernelspec": {
      "display_name": "Python 3 (ipykernel)",
      "language": "python",
      "name": "python3"
    },
    "language_info": {
      "codemirror_mode": {
        "name": "ipython",
        "version": 3
      },
      "file_extension": ".py",
      "mimetype": "text/x-python",
      "name": "python",
      "nbconvert_exporter": "python",
      "pygments_lexer": "ipython3",
      "version": "3.9.7"
    }
  },
  "nbformat": 4,
  "nbformat_minor": 5
}
